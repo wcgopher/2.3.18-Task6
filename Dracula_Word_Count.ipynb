{
 "cells": [
  {
   "cell_type": "code",
   "execution_count": 54,
   "metadata": {
    "collapsed": true
   },
   "outputs": [],
   "source": [
    "import collections\n"
   ]
  },
  {
   "cell_type": "code",
   "execution_count": 64,
   "metadata": {},
   "outputs": [
    {
     "data": {
      "text/plain": [
       "Counter({' ': 157757,\n",
       "         '!': 752,\n",
       "         '\"': 2955,\n",
       "         '#': 1,\n",
       "         '$': 2,\n",
       "         '%': 1,\n",
       "         '&': 21,\n",
       "         \"'\": 1645,\n",
       "         '(': 53,\n",
       "         ')': 53,\n",
       "         '*': 683,\n",
       "         ',': 11396,\n",
       "         '-': 3923,\n",
       "         '.': 8505,\n",
       "         '/': 31,\n",
       "         '0': 64,\n",
       "         '1': 182,\n",
       "         '2': 117,\n",
       "         '3': 80,\n",
       "         '4': 57,\n",
       "         '5': 58,\n",
       "         '6': 40,\n",
       "         '7': 43,\n",
       "         '8': 45,\n",
       "         '9': 43,\n",
       "         ':': 659,\n",
       "         ';': 1684,\n",
       "         '=': 9,\n",
       "         '>': 9,\n",
       "         '?': 492,\n",
       "         '@': 2,\n",
       "         '[': 3,\n",
       "         ']': 3,\n",
       "         '_': 995,\n",
       "         'a': 53800,\n",
       "         'b': 9332,\n",
       "         'c': 14235,\n",
       "         'd': 29268,\n",
       "         'e': 81719,\n",
       "         'f': 14478,\n",
       "         'g': 13194,\n",
       "         'h': 44084,\n",
       "         'i': 44122,\n",
       "         'j': 925,\n",
       "         'k': 6380,\n",
       "         'l': 26851,\n",
       "         'm': 18257,\n",
       "         'n': 44942,\n",
       "         'o': 52023,\n",
       "         'p': 9733,\n",
       "         'q': 640,\n",
       "         'r': 36525,\n",
       "         's': 40612,\n",
       "         't': 60136,\n",
       "         'u': 18642,\n",
       "         'v': 6066,\n",
       "         'w': 18465,\n",
       "         'x': 872,\n",
       "         'y': 13150,\n",
       "         'z': 285,\n",
       "         '{': 12,\n",
       "         '}': 12,\n",
       "         '£': 3,\n",
       "         'à': 1,\n",
       "         'á': 1,\n",
       "         'â': 2,\n",
       "         'æ': 9,\n",
       "         'è': 10,\n",
       "         'é': 3,\n",
       "         'ë': 3,\n",
       "         'ï': 2,\n",
       "         'ô': 1,\n",
       "         'ö': 9,\n",
       "         '\\ufeff': 1})"
      ]
     },
     "execution_count": 64,
     "metadata": {},
     "output_type": "execute_result"
    }
   ],
   "source": [
    "dtext = open(\"Dracula.txt\",\"r\") #This open the Dracula.txt file and gives it the attribute \"r\", which means readable. The file is readable\n",
    "lines = dtext.read().lower().split(\"\\n\") #This creates a list called \"lines\" where each item in the list is a line from the text. The '\\n' is used as the separator\n",
    "lines\n",
    "cnt = collections.Counter()\n",
    "for section in lines:\n",
    "    for c in section:\n",
    "         cnt[c]+=1\n",
    "cnt\n"
   ]
  },
  {
   "cell_type": "code",
   "execution_count": 57,
   "metadata": {},
   "outputs": [
    {
     "data": {
      "text/plain": [
       "collections.Counter"
      ]
     },
     "execution_count": 57,
     "metadata": {},
     "output_type": "execute_result"
    }
   ],
   "source": [
    "type(cnt)"
   ]
  },
  {
   "cell_type": "code",
   "execution_count": 6,
   "metadata": {
    "collapsed": true
   },
   "outputs": [],
   "source": []
  },
  {
   "cell_type": "code",
   "execution_count": null,
   "metadata": {},
   "outputs": [],
   "source": []
  },
  {
   "cell_type": "code",
   "execution_count": null,
   "metadata": {
    "collapsed": true
   },
   "outputs": [],
   "source": []
  }
 ],
 "metadata": {
  "kernelspec": {
   "display_name": "Python 3",
   "language": "python",
   "name": "python3"
  },
  "language_info": {
   "codemirror_mode": {
    "name": "ipython",
    "version": 3
   },
   "file_extension": ".py",
   "mimetype": "text/x-python",
   "name": "python",
   "nbconvert_exporter": "python",
   "pygments_lexer": "ipython3",
   "version": "3.6.3"
  }
 },
 "nbformat": 4,
 "nbformat_minor": 2
}
